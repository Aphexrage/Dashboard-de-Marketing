{
 "cells": [
  {
   "cell_type": "code",
   "execution_count": 15,
   "id": "34bc88f3",
   "metadata": {},
   "outputs": [],
   "source": [
    "import pandas as pd \n",
    "\n",
    "src = \"./dadosBrutos/dados_marketing.csv\"\n",
    "\n",
    "df_dados = pd.read_csv(src, sep=\";\")"
   ]
  },
  {
   "cell_type": "code",
   "execution_count": 4,
   "id": "48a8eb13",
   "metadata": {},
   "outputs": [
    {
     "name": "stdout",
     "output_type": "stream",
     "text": [
      "2000\n"
     ]
    }
   ],
   "source": [
    "print(df_dados.shape[0])"
   ]
  },
  {
   "cell_type": "code",
   "execution_count": 5,
   "id": "1139ac33",
   "metadata": {},
   "outputs": [
    {
     "name": "stdout",
     "output_type": "stream",
     "text": [
      "Valores Nulos: ID;Ano Nascimento;Escolaridade;Estado Civil;Salario Anual;Filhos em Casa;Adolescentes em Casa;Data Cadastro;Dias Desde Ultima Compra;Gasto com Eletronicos;Gasto com Brinquedos;Gasto com Moveis;Gasto com Utilidades;Gasto com Alimentos;Gasto com Vestuario;Numero de Compras com Desconto;Numero de Compras na Web;Numero de Compras via Catalogo;Numero de Compras na Loja;Numero Visitas WebSite Mes;Compra na Campanha 1;Compra na Campanha 2;Compra na Campanha 3;Compra na Campanha 4;Compra na Campanha 5;Comprou;Pais    0\n",
      "dtype: int64\n"
     ]
    }
   ],
   "source": [
    "valoreNulos = df_dados.isnull().sum()\n",
    "print(f\"Valores Nulos: {valoreNulos}\")"
   ]
  },
  {
   "cell_type": "code",
   "execution_count": 10,
   "id": "141d86c7",
   "metadata": {},
   "outputs": [
    {
     "name": "stdout",
     "output_type": "stream",
     "text": [
      "Index(['ID;Ano Nascimento;Escolaridade;Estado Civil;Salario Anual;Filhos em Casa;Adolescentes em Casa;Data Cadastro;Dias Desde Ultima Compra;Gasto com Eletronicos;Gasto com Brinquedos;Gasto com Moveis;Gasto com Utilidades;Gasto com Alimentos;Gasto com Vestuario;Numero de Compras com Desconto;Numero de Compras na Web;Numero de Compras via Catalogo;Numero de Compras na Loja;Numero Visitas WebSite Mes;Compra na Campanha 1;Compra na Campanha 2;Compra na Campanha 3;Compra na Campanha 4;Compra na Campanha 5;Comprou;Pais'], dtype='object')\n"
     ]
    }
   ],
   "source": [
    "print(df_dados.columns)"
   ]
  },
  {
   "cell_type": "code",
   "execution_count": 17,
   "id": "8cbfbd86",
   "metadata": {},
   "outputs": [
    {
     "name": "stdout",
     "output_type": "stream",
     "text": [
      "666666.0\n"
     ]
    }
   ],
   "source": [
    "maiorValor = df_dados['Salario Anual'].max()\n",
    "print(maiorValor)"
   ]
  },
  {
   "cell_type": "code",
   "execution_count": 18,
   "id": "418f7b4c",
   "metadata": {},
   "outputs": [],
   "source": [
    "df_dados_tratados = df_dados[df_dados['Salario Anual']!= maiorValor]"
   ]
  },
  {
   "cell_type": "code",
   "execution_count": 19,
   "id": "d01d2b7b",
   "metadata": {},
   "outputs": [
    {
     "name": "stdout",
     "output_type": "stream",
     "text": [
      "Arquivo gerado\n"
     ]
    }
   ],
   "source": [
    "df_dados_tratados.to_csv('./dados/dados_tratados.csv', index=False, sep=';')\n",
    "print('Arquivo gerado')"
   ]
  }
 ],
 "metadata": {
  "kernelspec": {
   "display_name": "Python 3",
   "language": "python",
   "name": "python3"
  },
  "language_info": {
   "codemirror_mode": {
    "name": "ipython",
    "version": 3
   },
   "file_extension": ".py",
   "mimetype": "text/x-python",
   "name": "python",
   "nbconvert_exporter": "python",
   "pygments_lexer": "ipython3",
   "version": "3.11.9"
  }
 },
 "nbformat": 4,
 "nbformat_minor": 5
}
